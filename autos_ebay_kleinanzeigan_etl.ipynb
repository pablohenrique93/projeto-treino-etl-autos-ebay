{
  "nbformat": 4,
  "nbformat_minor": 0,
  "metadata": {
    "colab": {
      "provenance": [],
      "toc_visible": true,
      "authorship_tag": "ABX9TyOF/gymgBMQFmiuxlK3vZAU",
      "include_colab_link": true
    },
    "kernelspec": {
      "name": "python3",
      "display_name": "Python 3"
    },
    "language_info": {
      "name": "python"
    }
  },
  "cells": [
    {
      "cell_type": "markdown",
      "metadata": {
        "id": "view-in-github",
        "colab_type": "text"
      },
      "source": [
        "<a href=\"https://colab.research.google.com/github/pablohenrique93/projeto-treino-etl-autos-ebay/blob/main/autos_ebay_kleinanzeigan_etl.ipynb\" target=\"_parent\"><img src=\"https://colab.research.google.com/assets/colab-badge.svg\" alt=\"Open In Colab\"/></a>"
      ]
    },
    {
      "cell_type": "markdown",
      "source": [
        "# Instalação das Bibliotecas"
      ],
      "metadata": {
        "id": "CgvDKSddIt8e"
      }
    },
    {
      "cell_type": "code",
      "execution_count": null,
      "metadata": {
        "id": "RJ7Vb2rmHtWO"
      },
      "outputs": [],
      "source": [
        "pip install pyspark"
      ]
    },
    {
      "cell_type": "code",
      "source": [
        "pip install pandera"
      ],
      "metadata": {
        "id": "TyIB948mKZs6"
      },
      "execution_count": null,
      "outputs": []
    },
    {
      "cell_type": "markdown",
      "source": [
        "# Importação das Bibliotecas"
      ],
      "metadata": {
        "id": "s4fQnQiFJjKU"
      }
    },
    {
      "cell_type": "code",
      "source": [
        "#Importação das Bibliotecas \n",
        "from pyspark.sql import SparkSession\n",
        "import pyspark.sql.functions\n",
        "from pyspark.sql.functions import *\n",
        "import os\n",
        "import pyspark.sql.functions as F\n",
        "import pandas as pd\n",
        "import numpy as np\n",
        "from pyspark.sql.window import Window\n",
        "from pyspark.sql.types import *\n",
        "import pymongo\n",
        "from pymongo import MongoClient"
      ],
      "metadata": {
        "id": "lvI6YF_oJoNl"
      },
      "execution_count": 3,
      "outputs": []
    },
    {
      "cell_type": "markdown",
      "source": [
        "# Leitura da Base de Dados"
      ],
      "metadata": {
        "id": "_5DV4ZzVLMfY"
      }
    },
    {
      "cell_type": "code",
      "source": [
        "df = pd.read_csv('/content/autos.csv')"
      ],
      "metadata": {
        "id": "Ne3x0MADJ69U"
      },
      "execution_count": 4,
      "outputs": []
    },
    {
      "cell_type": "code",
      "source": [
        "# Verificação se o Dataframe foi devidamente carregado\n",
        "df.head()"
      ],
      "metadata": {
        "id": "4LxWoAgoLlfy"
      },
      "execution_count": null,
      "outputs": []
    },
    {
      "cell_type": "markdown",
      "source": [
        "# Backup do Dataframe"
      ],
      "metadata": {
        "id": "Co8-KCXNL5TT"
      }
    },
    {
      "cell_type": "code",
      "source": [
        "# Faz-se necessário fazer um backup do Dataframe antes de qualquer manipulação de dados, em caso de um erro \n",
        "# nos processos posteriores os dados estão assegurados.\n",
        "\n",
        "backup_df = df.copy"
      ],
      "metadata": {
        "id": "B4bZd8QEMEBC"
      },
      "execution_count": 6,
      "outputs": []
    },
    {
      "cell_type": "markdown",
      "source": [
        "# Pré Análise do Dataframe"
      ],
      "metadata": {
        "id": "AuY6msV6MbJC"
      }
    },
    {
      "cell_type": "code",
      "source": [
        "df.head(5)"
      ],
      "metadata": {
        "id": "lAeZxCoBMefp"
      },
      "execution_count": null,
      "outputs": []
    },
    {
      "cell_type": "code",
      "source": [
        "df.tail(5)"
      ],
      "metadata": {
        "id": "Mv2uJg61OVQB"
      },
      "execution_count": null,
      "outputs": []
    },
    {
      "cell_type": "code",
      "source": [
        "df.dtypes"
      ],
      "metadata": {
        "id": "mdF8jU2yO-oJ"
      },
      "execution_count": null,
      "outputs": []
    },
    {
      "cell_type": "code",
      "source": [
        "df.shape"
      ],
      "metadata": {
        "colab": {
          "base_uri": "https://localhost:8080/"
        },
        "id": "KCCrTC_8PFsR",
        "outputId": "b70cae5a-6d87-4447-da5c-c7d77d1743cb"
      },
      "execution_count": 8,
      "outputs": [
        {
          "output_type": "execute_result",
          "data": {
            "text/plain": [
              "(371528, 21)"
            ]
          },
          "metadata": {},
          "execution_count": 8
        }
      ]
    },
    {
      "cell_type": "markdown",
      "source": [
        "# Tratamento de Dados"
      ],
      "metadata": {
        "id": "KIWTm8I2PVUR"
      }
    },
    {
      "cell_type": "code",
      "source": [
        "#Conferência de coluna por coluna com o objetivo de encontrar possíveis inconsistências\n",
        "pd.unique(df['dateCrawled'])"
      ],
      "metadata": {
        "id": "CJgcKrNVPfXx"
      },
      "execution_count": null,
      "outputs": []
    },
    {
      "cell_type": "code",
      "source": [
        "pd.unique(df['name'])"
      ],
      "metadata": {
        "id": "_IKKuVVuPrfh"
      },
      "execution_count": null,
      "outputs": []
    },
    {
      "cell_type": "code",
      "source": [
        "pd.unique(df['seller'])"
      ],
      "metadata": {
        "id": "KY__L7B-P02x"
      },
      "execution_count": null,
      "outputs": []
    },
    {
      "cell_type": "code",
      "source": [
        "pd.unique(df['offerType'])"
      ],
      "metadata": {
        "id": "pluOt9zMP8Mw"
      },
      "execution_count": null,
      "outputs": []
    },
    {
      "cell_type": "code",
      "source": [
        "pd.unique(df['price'])"
      ],
      "metadata": {
        "id": "7f3C6NhEQDYI"
      },
      "execution_count": null,
      "outputs": []
    },
    {
      "cell_type": "code",
      "source": [
        "pd.unique(df['abtest'])"
      ],
      "metadata": {
        "id": "_LOqpUJhQK2Y"
      },
      "execution_count": null,
      "outputs": []
    },
    {
      "cell_type": "code",
      "source": [
        "pd.unique(df['vehicleType'])"
      ],
      "metadata": {
        "id": "TsLhKnPfQP4A"
      },
      "execution_count": null,
      "outputs": []
    },
    {
      "cell_type": "code",
      "source": [
        "pd.unique(df['yearOfRegistration'])"
      ],
      "metadata": {
        "id": "WiAoMmgTQVhX"
      },
      "execution_count": null,
      "outputs": []
    },
    {
      "cell_type": "code",
      "source": [
        "pd.unique(df['gearbox'])"
      ],
      "metadata": {
        "id": "0bltdoO3Qgvy"
      },
      "execution_count": null,
      "outputs": []
    },
    {
      "cell_type": "code",
      "source": [
        "pd.unique(df['powerPS'])"
      ],
      "metadata": {
        "id": "Myn3FFzcQn4g"
      },
      "execution_count": null,
      "outputs": []
    },
    {
      "cell_type": "code",
      "source": [
        "pd.unique(df['model'])"
      ],
      "metadata": {
        "id": "735i-w0ORqhw"
      },
      "execution_count": null,
      "outputs": []
    },
    {
      "cell_type": "code",
      "source": [
        "df.dtypes"
      ],
      "metadata": {
        "id": "-OgPINY8R3ln"
      },
      "execution_count": null,
      "outputs": []
    },
    {
      "cell_type": "code",
      "source": [
        "pd.unique(df['kilometer'])"
      ],
      "metadata": {
        "id": "lowF1soORxRf"
      },
      "execution_count": null,
      "outputs": []
    },
    {
      "cell_type": "code",
      "source": [
        "pd.unique(df['monthOfRegistration'])"
      ],
      "metadata": {
        "id": "IrtqUzMuSAE_"
      },
      "execution_count": null,
      "outputs": []
    },
    {
      "cell_type": "code",
      "source": [
        "pd.unique(df['fuelType'])"
      ],
      "metadata": {
        "id": "Z2QEOCfOSE2A"
      },
      "execution_count": null,
      "outputs": []
    },
    {
      "cell_type": "code",
      "source": [
        "pd.unique(df['brand'])"
      ],
      "metadata": {
        "id": "RUj5uSPBSK1w"
      },
      "execution_count": null,
      "outputs": []
    },
    {
      "cell_type": "code",
      "source": [
        "pd.unique(df['notRepairedDamage'])"
      ],
      "metadata": {
        "id": "NvtcaWF1SSHX"
      },
      "execution_count": null,
      "outputs": []
    },
    {
      "cell_type": "code",
      "source": [
        "pd.unique(df['dateCreated'])"
      ],
      "metadata": {
        "id": "3myeTQkFSXNv"
      },
      "execution_count": null,
      "outputs": []
    },
    {
      "cell_type": "code",
      "source": [
        "pd.unique(df['nrOfPictures'])"
      ],
      "metadata": {
        "id": "mxXJFwnUSewP"
      },
      "execution_count": null,
      "outputs": []
    },
    {
      "cell_type": "code",
      "source": [
        "pd.unique(df['postalCode'])"
      ],
      "metadata": {
        "id": "AahhYkxySj23"
      },
      "execution_count": null,
      "outputs": []
    },
    {
      "cell_type": "code",
      "source": [
        "pd.unique(df['lastSeen'])"
      ],
      "metadata": {
        "id": "AYL1MG6fSpng"
      },
      "execution_count": null,
      "outputs": []
    },
    {
      "cell_type": "markdown",
      "source": [
        "# Limpeza de Inconsistências e Padronização de Colunas"
      ],
      "metadata": {
        "id": "CRpRrsPyS6KY"
      }
    },
    {
      "cell_type": "code",
      "source": [
        "# Dropagem da coluna 'index' pois o dataframe ja possui uma númeração com a mesma característica\n",
        "# Dropagem da coluna 'nrOfPictures' pois a mesma se encontra zerada\n",
        "\n",
        "df.drop(['index'],axis=1,inplace=True)\n",
        "df.drop(['nrOfPictures'],axis=1,inplace=True)"
      ],
      "metadata": {
        "id": "RfPLas4E6NLI"
      },
      "execution_count": 31,
      "outputs": []
    },
    {
      "cell_type": "code",
      "source": [
        "# Renomeação e tradução de colunas, utilizando a fonte dos dados como parâmetro de tradução\n",
        "\n",
        "df.rename(columns={\n",
        "    'dateCrawled':'data_anuncio',\n",
        "    'name':'nome_carro',\n",
        "    'seller':'vendedor',\n",
        "    'offerType':'tipo_de_oferta',\n",
        "    'price':'preco',\n",
        "    'abtest':'teste_ab',\n",
        "    'vehicleType':'tipo_de_veiculo',\n",
        "    'yearOfRegistration':'ano_de_registro',\n",
        "    'gearbox':'cambio',\n",
        "    'powerPS':'potencia_cavalos',\n",
        "    'model':'modelo',\n",
        "    'kilometer':'quilometragem',\n",
        "    'monthOfRegistration':'mes_de_registro',\n",
        "    'fuelType':'tipo_de_combustivel',\n",
        "    'brand':'marca',\n",
        "    'notRepairedDamage':'danos_nao_reparados',\n",
        "    'dateCreated':'data_lista_ebay',\n",
        "    'postalCode':'codigo_postal_loc',\n",
        "    'lastSeen':'data_ultima_visualizacao'\n",
        "},inplace=True)"
      ],
      "metadata": {
        "id": "zR7PvZYh6UBa"
      },
      "execution_count": 32,
      "outputs": []
    },
    {
      "cell_type": "code",
      "source": [
        "# Renomeando e traduzindo dados dentro das colunas com o objetivo de facilitar o entendimento das mesmas\n",
        "\n",
        "df.replace({'vendedor':'privat'}, 'privado',regex=True, inplace=True)  \n",
        "df.replace({'vendedor':'gewerblich'}, 'comercial', regex=True, inplace=True)"
      ],
      "metadata": {
        "id": "qPW6yqhaEzaO"
      },
      "execution_count": 33,
      "outputs": []
    },
    {
      "cell_type": "code",
      "source": [
        "df.replace({'tipo_de_oferta':'Angebot'}, 'oferta', regex=True, inplace=True)\n",
        "df.replace({'tipo_de_oferta':'Gesuch'}, 'procura', regex=True, inplace=True)"
      ],
      "metadata": {
        "id": "OIfHGSCSggMa"
      },
      "execution_count": 34,
      "outputs": []
    },
    {
      "cell_type": "code",
      "source": [
        "df.replace({'teste_ab':'control'}, 'controle',regex=True, inplace=True)\n",
        "df.replace({'teste_ab':'test'}, 'teste',regex=True, inplace=True)"
      ],
      "metadata": {
        "id": "2u7g8hY7RkvQ"
      },
      "execution_count": 35,
      "outputs": []
    },
    {
      "cell_type": "code",
      "source": [
        "df.replace({'tipo_de_veiculo':'kleinwagen'}, 'carro_pequeno',regex=True, inplace=True)\n",
        "df.replace({'tipo_de_veiculo':'cabrio'}, 'conversivel',regex=True, inplace=True)\n",
        "df.replace({'tipo_de_veiculo':'bus'}, 'onibus',regex=True, inplace=True)\n",
        "df.replace({'tipo_de_veiculo':'andere'}, 'outros',regex=True, inplace=True)"
      ],
      "metadata": {
        "id": "-tkblGawpSpp"
      },
      "execution_count": 36,
      "outputs": []
    },
    {
      "cell_type": "code",
      "source": [
        "df.replace({'cambio':'manuell'}, 'manual',regex=True, inplace=True)\n",
        "df.replace({'cambio':'automatik'}, 'automatico',regex=True, inplace=True)"
      ],
      "metadata": {
        "id": "uFw3BvoKS6Uq"
      },
      "execution_count": 37,
      "outputs": []
    },
    {
      "cell_type": "code",
      "source": [
        "df.replace({'modelo':'andere'}, 'outros',regex=True, inplace=True)"
      ],
      "metadata": {
        "id": "3-7WBrt8txtO"
      },
      "execution_count": 38,
      "outputs": []
    },
    {
      "cell_type": "code",
      "source": [
        "df.replace({'tipo_de_combustivel':'benzin'}, 'gasolina',regex=True, inplace=True)\n",
        "df.replace({'tipo_de_combustivel':'lpg'}, 'gas',regex=True, inplace=True)\n",
        "df.replace({'tipo_de_combustivel':'andere'}, 'outros',regex=True, inplace=True)\n",
        "df.replace({'tipo_de_combustivel':'hybrid'}, 'hibrido',regex=True, inplace=True)\n",
        "df.replace({'tipo_de_combustivel':'cng'}, 'gas_verde',regex=True, inplace=True)\n",
        "df.replace({'tipo_de_combustivel':'elektro'}, 'eletrico',regex=True, inplace=True)"
      ],
      "metadata": {
        "id": "rAY_6SZvUCcf"
      },
      "execution_count": 39,
      "outputs": []
    },
    {
      "cell_type": "code",
      "source": [
        "df.replace({'danos_nao_reparados':'ja'}, 'sim',regex=True, inplace=True)\n",
        "df.replace({'danos_nao_reparados':'nein'}, 'nao',regex=True, inplace=True)"
      ],
      "metadata": {
        "id": "iJ7xQZ13hfh3"
      },
      "execution_count": 40,
      "outputs": []
    },
    {
      "cell_type": "code",
      "source": [
        "#Verificando a quantidade de valores nulos\n",
        "df.isna().sum()"
      ],
      "metadata": {
        "id": "1Otac1FjlQsE"
      },
      "execution_count": null,
      "outputs": []
    },
    {
      "cell_type": "markdown",
      "source": [
        "#Insights, filtros e Groupby"
      ],
      "metadata": {
        "id": "dzLHdmsbluH9"
      }
    },
    {
      "cell_type": "code",
      "source": [
        "#Groupby para verificação dos veículos que se encontram com danos não reparados com seu respectivo plot\n",
        "df.groupby(['danos_nao_reparados']).size().sort_values(ascending=False)"
      ],
      "metadata": {
        "id": "xKg0wJU0mrzl"
      },
      "execution_count": null,
      "outputs": []
    },
    {
      "cell_type": "code",
      "source": [
        "df.groupby(['danos_nao_reparados']).size().head(10).sort_values(ascending=False).plot.pie(xlabel='danos_nao_reparados', ylabel = 'quantidade', rot=90)"
      ],
      "metadata": {
        "id": "sEUxUlSKnERc"
      },
      "execution_count": null,
      "outputs": []
    },
    {
      "cell_type": "code",
      "source": [
        "#Groupby para verificação da quantidade de cada tipo de veículo assim como sua respectiva plotagem\n",
        "df.groupby(['tipo_de_veiculo']).size().sort_values(ascending=False)"
      ],
      "metadata": {
        "id": "3W3ktFWWo4c4"
      },
      "execution_count": null,
      "outputs": []
    },
    {
      "cell_type": "code",
      "source": [
        "df.groupby(['tipo_de_veiculo']).size().head(10).sort_values(ascending=False).plot.bar(xlabel='tipo_de_veiculo', ylabel = 'quantidade', rot=90)"
      ],
      "metadata": {
        "id": "yQu_Q1Ziof4u"
      },
      "execution_count": null,
      "outputs": []
    },
    {
      "cell_type": "code",
      "source": [
        "# Groupby para verificação da quantidade dos tipos de vendedores assim como sua respectiva plotagem\n",
        "df.groupby(['vendedor']).size().sort_values(ascending=False)"
      ],
      "metadata": {
        "id": "ou0B1edkro5g"
      },
      "execution_count": null,
      "outputs": []
    },
    {
      "cell_type": "code",
      "source": [
        "df.groupby(['vendedor']).size().head(10).sort_values(ascending=False).plot.bar(xlabel='vendedor', ylabel = 'quantidade', rot=90)"
      ],
      "metadata": {
        "id": "LkgXGnlOrRQI"
      },
      "execution_count": null,
      "outputs": []
    },
    {
      "cell_type": "code",
      "source": [
        "#Groupby para verificação da quantidade de listagens inclusas em teste a/b e sua respectiva plotagem\n",
        "df.groupby(['teste_ab']).size().sort_values(ascending=False)"
      ],
      "metadata": {
        "id": "rHMT9DOZr7-H"
      },
      "execution_count": null,
      "outputs": []
    },
    {
      "cell_type": "code",
      "source": [
        "df.groupby(['teste_ab']).size().head(10).sort_values(ascending=False).plot.pie(xlabel='teste_ab', ylabel = 'quantidade', rot=90)"
      ],
      "metadata": {
        "id": "g1DlMBDssBl4"
      },
      "execution_count": null,
      "outputs": []
    },
    {
      "cell_type": "code",
      "source": [
        "#Groupby para verificação da quilometragem máxima dos modelos da lista assim como sua respectiva plotagem\n",
        "df.groupby(['quilometragem']).size().sort_values(ascending=False)"
      ],
      "metadata": {
        "id": "xpxMGlAFte14"
      },
      "execution_count": null,
      "outputs": []
    },
    {
      "cell_type": "code",
      "source": [
        "df.groupby(['quilometragem']).size().head(10).sort_values(ascending=False).plot.bar(xlabel='quilometragem', ylabel = 'quantidade', rot=90)"
      ],
      "metadata": {
        "id": "y1veBLpyuBH3"
      },
      "execution_count": null,
      "outputs": []
    },
    {
      "cell_type": "markdown",
      "source": [
        "#SPARK (Utilização da biblioteca PySpark para dar continuidade a manipulação dos dados)"
      ],
      "metadata": {
        "id": "-SuhgFTZxCFN"
      }
    },
    {
      "cell_type": "code",
      "source": [
        "#Configuração de ambiente (sessão) Spark / variável de sessão que permite o uso do Spark\n",
        "spark = (\n",
        "    SparkSession.builder\n",
        "                .master('local')\n",
        "                .appName('autos')\n",
        "                .getOrCreate()\n",
        ")"
      ],
      "metadata": {
        "id": "9ukso4qZxEhu"
      },
      "execution_count": 53,
      "outputs": []
    },
    {
      "cell_type": "code",
      "source": [
        "#Verificando a variavel spark\n",
        "spark"
      ],
      "metadata": {
        "id": "6zdfIzzJx95u"
      },
      "execution_count": null,
      "outputs": []
    },
    {
      "cell_type": "code",
      "source": [
        "#Montagem do esquema de colunas contendo a tipagem de cada coluna via StructType\n",
        "esquema = (\n",
        "    StructType([\n",
        "        StructField('data_anuncio', StringType()),\n",
        "        StructField('nome_carro', StringType()),\n",
        "        StructField('vendedor', StringType()),\n",
        "        StructField('tipo_de_oferta', StringType()),\n",
        "        StructField('preco', IntegerType()),\n",
        "        StructField('teste_ab', StringType()),\n",
        "        StructField('tipo_de_veiculo', StringType()),\n",
        "        StructField('ano_de_registro', IntegerType()),\n",
        "        StructField('cambio', StringType()),\n",
        "        StructField('potencia_cavalos', IntegerType()),\n",
        "        StructField('modelo', StringType()),\n",
        "        StructField('quilometragem', IntegerType()),\n",
        "        StructField('mes_de_registro', IntegerType()),\n",
        "        StructField('tipo_de_combustivel', StringType()),\n",
        "        StructField('marca', StringType()),\n",
        "        StructField('danos_nao_reparados', StringType()),\n",
        "        StructField('data_lista_ebay', StringType()),\n",
        "        StructField('codigo_postal_loc', IntegerType()),\n",
        "        StructField('data_ultima_visualizacao', StringType())\n",
        "        \n",
        "    ])\n",
        ")"
      ],
      "metadata": {
        "id": "3yui6caZ2GNN"
      },
      "execution_count": 55,
      "outputs": []
    },
    {
      "cell_type": "code",
      "source": [
        "# Conversão do df, Pandas Para PySpark inferindo o schema\n",
        "df_spark = spark.createDataFrame(df, schema=esquema)\n",
        "df_spark.printSchema()\n",
        "df_spark.show()"
      ],
      "metadata": {
        "id": "Wl4ayaF8AhyH"
      },
      "execution_count": null,
      "outputs": []
    },
    {
      "cell_type": "code",
      "source": [
        "#Antes de iniciar a manipulação de dados faz-se necessário realizar um backup, para em caso de um possível erro, os dados estarem assegurados\n",
        "df_spark_bckup = df_spark"
      ],
      "metadata": {
        "id": "tXeLi18nDRsE"
      },
      "execution_count": 57,
      "outputs": []
    },
    {
      "cell_type": "markdown",
      "source": [
        "#Pré Análise"
      ],
      "metadata": {
        "id": "QUcnHi_2DAqN"
      }
    },
    {
      "cell_type": "code",
      "source": [
        "#Verificação das colunas bem como seus tipos\n",
        "df_spark.printSchema()"
      ],
      "metadata": {
        "id": "SGb27vYMDDPX"
      },
      "execution_count": null,
      "outputs": []
    },
    {
      "cell_type": "code",
      "source": [
        "#Verificação do Dataset\n",
        "df_spark.show(truncate=False)"
      ],
      "metadata": {
        "id": "Mnx9Y0fGD3Yn"
      },
      "execution_count": null,
      "outputs": []
    },
    {
      "cell_type": "code",
      "source": [
        "# Verificação dos dados presentes em cada coluna\n",
        "df_spark.summary().show()"
      ],
      "metadata": {
        "id": "rXRsrpyNEOCk"
      },
      "execution_count": null,
      "outputs": []
    },
    {
      "cell_type": "code",
      "source": [
        "#Contagem de linhas distintas\n",
        "df_spark_distinct = df_spark.distinct()\n",
        "print('Distinct ns.: '+str(df_spark_distinct.count()))"
      ],
      "metadata": {
        "id": "jOj0KuvCFUgy"
      },
      "execution_count": null,
      "outputs": []
    },
    {
      "cell_type": "markdown",
      "source": [
        "#Tratamento de Dados"
      ],
      "metadata": {
        "id": "gf9n4-H1FsaP"
      }
    },
    {
      "cell_type": "code",
      "source": [
        "#Contagem de linhas totais do dataset\n",
        "df_spark.count()"
      ],
      "metadata": {
        "id": "aGFdHcwdGkKK"
      },
      "execution_count": null,
      "outputs": []
    },
    {
      "cell_type": "code",
      "source": [
        "#Dropagem de linhas duplicadas \n",
        "df1 = df_spark.dropDuplicates()\n",
        "df1.count()"
      ],
      "metadata": {
        "id": "tOrdkEIsFpb6"
      },
      "execution_count": null,
      "outputs": []
    },
    {
      "cell_type": "code",
      "source": [
        "#Verificando todas as colunas do data frame\n",
        "df1.select('mes_de_registro').distinct().show(100,truncate = False)"
      ],
      "metadata": {
        "id": "jVUv6i8VIEAi"
      },
      "execution_count": null,
      "outputs": []
    },
    {
      "cell_type": "code",
      "source": [
        "#Alterando valores na coluna 'mes_de_registro' com o objetivo de padroniza-la visando uma possível \n",
        "#concatenação com a coluna 'ano_de_registro'\n",
        "\n",
        "df2 = ( df1.withColumn('mes_de_registro', F.when(F.col('mes_de_registro') == '0', F.regexp_replace(F.col('mes_de_registro'), '0', '-00'))\n",
        "                                .when(F.col('mes_de_registro') == '5', F.regexp_replace(F.col('mes_de_registro'), '5', '-05'))\n",
        "                                .when(F.col('mes_de_registro') == '8', F.regexp_replace(F.col('mes_de_registro'), '8', '-08'))\n",
        "                                .when(F.col('mes_de_registro') == '6', F.regexp_replace(F.col('mes_de_registro'), '6', '-06'))\n",
        "                                .when(F.col('mes_de_registro') == '7', F.regexp_replace(F.col('mes_de_registro'), '7', '-07'))\n",
        "                                .when(F.col('mes_de_registro') == '2', F.regexp_replace(F.col('mes_de_registro'), '2', '-02'))\n",
        "                                .when(F.col('mes_de_registro') == '3', F.regexp_replace(F.col('mes_de_registro'), '3', '-03'))\n",
        "                                .when(F.col('mes_de_registro') == '1', F.regexp_replace(F.col('mes_de_registro'), '1', '-01'))\n",
        "                                .when(F.col('mes_de_registro') == '9', F.regexp_replace(F.col('mes_de_registro'), '9', '-09'))\n",
        "                                .when(F.col('mes_de_registro') == '10', F.regexp_replace(F.col('mes_de_registro'), '10', '-10'))\n",
        "                                .when(F.col('mes_de_registro') == '11', F.regexp_replace(F.col('mes_de_registro'), '11', '-11'))\n",
        "                                .when(F.col('mes_de_registro') == '12', F.regexp_replace(F.col('mes_de_registro'), '12', '-12'))\n",
        "                                .when(F.col('mes_de_registro') == '4', F.regexp_replace(F.col('mes_de_registro'), '4', '-04'))\n",
        "                                   \n",
        "                       )\n",
        ")"
      ],
      "metadata": {
        "id": "P3bQT7yEX_mb"
      },
      "execution_count": 65,
      "outputs": []
    },
    {
      "cell_type": "code",
      "source": [
        "#Verificação da coluna após alteração\n",
        "df2.select('mes_de_registro').distinct().show(100,truncate = False)"
      ],
      "metadata": {
        "id": "Xh7NF7TqZoze"
      },
      "execution_count": null,
      "outputs": []
    },
    {
      "cell_type": "code",
      "source": [
        "#Concatenando as colunas 'ano_de_registro' e 'mes_de_regsitro' resultando numa nova coluna chamada 'ano_mes_registro'\n",
        "df3 = df2.withColumn(\"ano_mes_registro\", concat(df2[\"ano_de_registro\"], df2[\"mes_de_registro\"]))"
      ],
      "metadata": {
        "id": "WSH-wpTTbCzD"
      },
      "execution_count": 67,
      "outputs": []
    },
    {
      "cell_type": "code",
      "source": [
        "#Verificando a concatenação da coluna\n",
        "df3.select(\"ano_mes_registro\").distinct().show(100,truncate = False)"
      ],
      "metadata": {
        "id": "2sRoVdLjSbkQ"
      },
      "execution_count": null,
      "outputs": []
    },
    {
      "cell_type": "code",
      "source": [
        "#Realizando o drop das colunas 'ano_de_registro' e 'mes_de_registro' pois foram concatenadas\n",
        "df4 = df3.drop('ano_de_registro','mes_de_registro')"
      ],
      "metadata": {
        "id": "Euc7B6jrty0z"
      },
      "execution_count": 69,
      "outputs": []
    },
    {
      "cell_type": "code",
      "source": [
        "#Criando uma nova coluna excluindo os dados de horários pois os mesmos se apresentavam zerados\n",
        "df5 = df4.withColumn(\"data_ebay_lista\", date_format(\"data_lista_ebay\", \"yyyy-MM-dd\"))"
      ],
      "metadata": {
        "id": "T_o8eHntE2XX"
      },
      "execution_count": 70,
      "outputs": []
    },
    {
      "cell_type": "code",
      "source": [
        "#Drop da coluna de origem pois já foi modificada com a criação de uma nova coluna\n",
        "df6 = df5.drop(\"data_lista_ebay\")"
      ],
      "metadata": {
        "id": "3Z3Vw05mFFU3"
      },
      "execution_count": 71,
      "outputs": []
    },
    {
      "cell_type": "code",
      "source": [
        "#Ordenação de Colunas do Dataframe com o objetivo de facilitar o entendimento dos dados\n",
        "df7 = df6.select(col(\"data_anuncio\"), col(\"nome_carro\"), col(\"ano_mes_registro\"), col(\"modelo\"), col(\"cambio\"), col(\"marca\"), \n",
        "                 col(\"tipo_de_veiculo\"), col(\"potencia_cavalos\"), col(\"quilometragem\"), col(\"tipo_de_combustivel\"), col(\"danos_nao_reparados\"), \n",
        "                 col(\"preco\"), col(\"codigo_postal_loc\"), col(\"vendedor\"), col(\"tipo_de_oferta\"), col(\"teste_ab\"), col(\"data_ebay_lista\"), col(\"data_ultima_visualizacao\"))"
      ],
      "metadata": {
        "id": "Ou-jMSH5f290"
      },
      "execution_count": 72,
      "outputs": []
    },
    {
      "cell_type": "code",
      "source": [
        "#Conversão da coluna \"data_ebay_lista\" para uma nova coluna chamada data_lista_ebay, já no formato date\n",
        "df8 = df7.withColumn(\"data_lista_ebay\", to_date(\"data_ebay_lista\", \"yyyy-MM-dd\"))"
      ],
      "metadata": {
        "id": "8UX-4IRRHicR"
      },
      "execution_count": 73,
      "outputs": []
    },
    {
      "cell_type": "code",
      "source": [
        "#Drop da coluna \"data_ebay_lista\" pois ja foi modificada com a criação da coluna \"data_lista_ebay\" no formato date\n",
        "df9 = df8.drop(\"data_ebay_lista\")"
      ],
      "metadata": {
        "id": "xrLpBpftIrYI"
      },
      "execution_count": 74,
      "outputs": []
    },
    {
      "cell_type": "code",
      "source": [
        "#Criação de Colunas no formato timestamp utilizando as colunas de origem\n",
        "df10 = df9.withColumn(\"anuncio_data\", to_timestamp(\"data_anuncio\", \"yyyy-MM-dd HH:mm:ss\"))\n",
        "df11 = df10.withColumn(\"data_ultima_visu\", to_timestamp(\"data_ultima_visualizacao\", \"yyyy-MM-dd HH:mm:ss\"))"
      ],
      "metadata": {
        "id": "c8kDoWl-KsKI"
      },
      "execution_count": 75,
      "outputs": []
    },
    {
      "cell_type": "code",
      "source": [
        "#Drop das colunas de origem pois as mesmas ja foram modificadas\n",
        "df12 = df11.drop(\"data_anuncio\",\"data_ultima_visualizacao\")"
      ],
      "metadata": {
        "id": "I6IsgPGRMErI"
      },
      "execution_count": 77,
      "outputs": []
    },
    {
      "cell_type": "code",
      "source": [
        "#Reordenação de Colunas novamente pois o dataframe sofreu modificações adicionais\n",
        "df13 = df12.select(col(\"anuncio_data\"), col(\"nome_carro\"), col(\"ano_mes_registro\"), col(\"modelo\"), col(\"cambio\"), col(\"marca\"), \n",
        "                 col(\"tipo_de_veiculo\"), col(\"potencia_cavalos\"), col(\"quilometragem\"), col(\"tipo_de_combustivel\"), col(\"danos_nao_reparados\"), \n",
        "                 col(\"preco\"), col(\"codigo_postal_loc\"), col(\"vendedor\"), col(\"tipo_de_oferta\"), col(\"teste_ab\"), col(\"data_lista_ebay\"), col(\"data_ultima_visu\"))"
      ],
      "metadata": {
        "id": "87gdoYHTMWnH"
      },
      "execution_count": 78,
      "outputs": []
    },
    {
      "cell_type": "markdown",
      "source": [
        "#Possíveis Análises (Groupby e Filtros)"
      ],
      "metadata": {
        "id": "zxVwPASlknts"
      }
    },
    {
      "cell_type": "code",
      "source": [
        "#Visualização da quantidade de registros de cada carro\n",
        "df13.groupBy('nome_carro').count().orderBy(F.col('count').desc()).show(20)"
      ],
      "metadata": {
        "id": "tAXm6zP6kVJi"
      },
      "execution_count": null,
      "outputs": []
    },
    {
      "cell_type": "code",
      "source": [
        "#Verificação da quantidade de carros automáticos e manuais \n",
        "df13.groupBy('cambio').count().orderBy(F.col('count').desc()).show(100)"
      ],
      "metadata": {
        "id": "LnzfublQmT-V"
      },
      "execution_count": null,
      "outputs": []
    },
    {
      "cell_type": "code",
      "source": [
        "#Verificação da quantidade dos tipos de veículos\n",
        "df13.groupBy('tipo_de_veiculo').count().orderBy(F.col('count').desc()).show(100)"
      ],
      "metadata": {
        "id": "4OGXnYzIccCp"
      },
      "execution_count": null,
      "outputs": []
    },
    {
      "cell_type": "code",
      "source": [
        "#Verificação da quantidade de anúncio por data\n",
        "df13.groupBy('anuncio_data').count().orderBy(F.col('count').desc()).show()"
      ],
      "metadata": {
        "id": "ay56OrL6nk_B"
      },
      "execution_count": null,
      "outputs": []
    },
    {
      "cell_type": "code",
      "source": [
        "#Verificação dos carros mais caros da lista, organizando do maior para o menor, com retorno do nome do carro, modelo e preço\n",
        "df13.select(F.col('nome_carro'), F.col('modelo'), F.col('preco')).orderBy(F.col('preco').desc()).show()"
      ],
      "metadata": {
        "id": "6Pi3eCgg4sXX"
      },
      "execution_count": null,
      "outputs": []
    },
    {
      "cell_type": "code",
      "source": [
        "#Realização de um groupby para verificar os valores mínimos e máximos dos preços dos carros\n",
        "df13.groupBy('nome_carro').agg(\n",
        "    F.round(F.sum('preco'),2).alias('preco'), \n",
        "    F.min('preco').alias('valor_min'),\n",
        "    F.max('preco').alias('valor_max')\n",
        "    ).show()"
      ],
      "metadata": {
        "id": "Z0ASREes-kr7"
      },
      "execution_count": null,
      "outputs": []
    },
    {
      "cell_type": "code",
      "source": [
        "#Filtro para exibição de carros com potência maior ou igual a 150 cavalos\n",
        "df13.select(F.col('nome_carro'), F.col('potencia_cavalos')).filter(F.col('potencia_cavalos') >= 150).show()"
      ],
      "metadata": {
        "id": "Feq58o8TbR37"
      },
      "execution_count": null,
      "outputs": []
    },
    {
      "cell_type": "markdown",
      "source": [
        "#SparkSQL"
      ],
      "metadata": {
        "id": "JzjExqvfjyZW"
      }
    },
    {
      "cell_type": "code",
      "source": [
        "#Criação de um banco de dados\n",
        "spark.sql('create database autos').show()"
      ],
      "metadata": {
        "id": "zKbr5R58j2E-"
      },
      "execution_count": null,
      "outputs": []
    },
    {
      "cell_type": "code",
      "source": [
        "#Exibindo o banco de dados\n",
        "spark.sql('show databases').show()"
      ],
      "metadata": {
        "id": "obmWfrkeUyQx"
      },
      "execution_count": null,
      "outputs": []
    },
    {
      "cell_type": "code",
      "source": [
        "#Selecionando o banco de dados para trabalhar utilizando o mesmo\n",
        "spark.sql('use autos')"
      ],
      "metadata": {
        "id": "O9oFueqgVdh4"
      },
      "execution_count": null,
      "outputs": []
    },
    {
      "cell_type": "code",
      "source": [
        "#Criando e salvando o Df em tabela\n",
        "df13.write.saveAsTable('autos')"
      ],
      "metadata": {
        "id": "Zowz8YpdVvWZ"
      },
      "execution_count": 89,
      "outputs": []
    },
    {
      "cell_type": "code",
      "source": [
        "spark.sql(\"SELECT * FROM autos\").show()"
      ],
      "metadata": {
        "id": "BAiVIuINWOSp"
      },
      "execution_count": null,
      "outputs": []
    },
    {
      "cell_type": "markdown",
      "source": [
        "## Queries executadas utilizando SQL"
      ],
      "metadata": {
        "id": "v6a49EqAWjkr"
      }
    },
    {
      "cell_type": "code",
      "source": [
        "#Seleção de nome, modelo, marca e cambio dos carros filtrando por cambio manual\n",
        "spark.sql(\"SELECT nome_carro, modelo, marca, cambio FROM autos WHERE cambio = 'manual'\").show()"
      ],
      "metadata": {
        "id": "VJ4L_v_AWks4"
      },
      "execution_count": null,
      "outputs": []
    },
    {
      "cell_type": "code",
      "source": [
        "#Query para retorno do nome, modelo, potência em cavalos e tipo do veículo de todas as limousines \n",
        "spark.sql('SELECT nome_carro, modelo, potencia_cavalos, tipo_de_veiculo FROM autos WHERE tipo_de_veiculo = \"limousine\";').show(truncate=False)"
      ],
      "metadata": {
        "id": "1pTSS-fnX0Pg"
      },
      "execution_count": null,
      "outputs": []
    },
    {
      "cell_type": "code",
      "source": [
        "#Query para retorno do nome do carro e marca ordenados pela marca do veículo de forma ascendente\n",
        "spark.sql('SELECT nome_carro, marca FROM autos ORDER BY marca ASC;').show(truncate=False)"
      ],
      "metadata": {
        "id": "wsJfPgG9b-vD"
      },
      "execution_count": null,
      "outputs": []
    },
    {
      "cell_type": "code",
      "source": [
        "#Query para retornar os carros com a potência entre 150 e 300 cavalos\n",
        "spark.sql(\"SELECT nome_carro, potencia_cavalos FROM autos WHERE potencia_cavalos BETWEEN 150 AND 300;\").show(truncate=False)"
      ],
      "metadata": {
        "id": "V-1N3mlHdF6Z"
      },
      "execution_count": null,
      "outputs": []
    },
    {
      "cell_type": "code",
      "source": [
        "#Query para retorno dos carros mais caros da tabela de forma ordenada\n",
        "spark.sql(\"SELECT nome_carro, preco FROM autos ORDER BY preco\").show(truncate=False)"
      ],
      "metadata": {
        "id": "0uNoUPOCed7T"
      },
      "execution_count": null,
      "outputs": []
    },
    {
      "cell_type": "code",
      "source": [
        "#Query executada para retorno de todos os carros que tiveram seus anúncios postados entre '2016-03-08 12:53:50' e '2016-03-05 14:41:46'\n",
        "spark.sql(\"SELECT * FROM autos WHERE anuncio_data BETWEEN '2016-03-08 12:53:50' AND '2016-03-05 14:41:46'\").show(truncate=False)"
      ],
      "metadata": {
        "id": "XfyCDmic3kQh"
      },
      "execution_count": null,
      "outputs": []
    },
    {
      "cell_type": "code",
      "source": [
        "#Query executada com o objetivo de retorno dos carros que tiverem entre seus nomes a palavra \"Benz\"\n",
        "spark.sql(\"SELECT *  FROM autos WHERE nome_carro LIKE '%Benz%'\").show(truncate=False)"
      ],
      "metadata": {
        "id": "Matg22Ki5F1z"
      },
      "execution_count": null,
      "outputs": []
    },
    {
      "cell_type": "code",
      "source": [
        "#Query para retorno de anúncios feitos somente por vendedores comerciais\n",
        "spark.sql(\"SELECT * FROM autos WHERE vendedor = 'comercial'\").show(truncate=False)"
      ],
      "metadata": {
        "id": "0eeShjc05-GA"
      },
      "execution_count": null,
      "outputs": []
    },
    {
      "cell_type": "code",
      "source": [
        "#Query executada para retorno da média de preços dos carros da tabela\n",
        "spark.sql(\"SELECT AVG(preco) AS media_preco_carros FROM autos;\").show(truncate=False)"
      ],
      "metadata": {
        "id": "FiFW5OXd7EK7"
      },
      "execution_count": null,
      "outputs": []
    },
    {
      "cell_type": "code",
      "source": [
        "#Query executada para retorno do preço máximo dos carros da tabela\n",
        "spark.sql(\"SELECT MAX(preco) AS preco_maximo_carros FROM autos;\").show(truncate=False)"
      ],
      "metadata": {
        "id": "GDQ4w3Qh7gZR"
      },
      "execution_count": null,
      "outputs": []
    },
    {
      "cell_type": "markdown",
      "source": [
        "# Conversão para Pandas para envio para o MondoDB"
      ],
      "metadata": {
        "id": "PoJkY9ekhmBn"
      }
    },
    {
      "cell_type": "code",
      "source": [
        "df_final = df13.toPandas()"
      ],
      "metadata": {
        "id": "GGofTVu6htsJ"
      },
      "execution_count": 103,
      "outputs": []
    },
    {
      "cell_type": "code",
      "source": [
        "#Salvando tambem em formato Csv com objetivo de documentá-lo\n",
        "df_final.to_csv('autos_treated.csv', index=False)"
      ],
      "metadata": {
        "id": "szquTQr9kNpX"
      },
      "execution_count": 108,
      "outputs": []
    },
    {
      "cell_type": "markdown",
      "source": [
        "# Envio para o MongoDB"
      ],
      "metadata": {
        "id": "lFf5IRyUOUZL"
      }
    },
    {
      "cell_type": "code",
      "source": [
        "#Conectando com o MongoDB\n",
        "\n",
        "uri = \"uri_mongo\"\n",
        "client = MongoClient(uri,tls=True,tlsCertificateKeyFile='mongo_key')"
      ],
      "metadata": {
        "id": "IsfXt8gGf6BJ"
      },
      "execution_count": 101,
      "outputs": []
    },
    {
      "cell_type": "code",
      "source": [
        "#Criando coleções para enviar para o mongoDB\n",
        "db = client['treated_base']\n",
        "colecaoautos = db['autos_treated']"
      ],
      "metadata": {
        "id": "n0kgMmqZg7Y4"
      },
      "execution_count": 107,
      "outputs": []
    },
    {
      "cell_type": "code",
      "source": [
        "#Envio\n",
        "data_dict = df_final.to_dict('records')\n",
        "#'insert many' para inserir vários\n",
        "colecaoautos.insert_many(data_dict)\n",
        "print('Data Frame importado com sucesso!')"
      ],
      "metadata": {
        "id": "yh76bd77iNEi"
      },
      "execution_count": null,
      "outputs": []
    },
    {
      "cell_type": "code",
      "source": [
        "#Verificando se o arquivo foi enviado\n",
        "colecaoautos.count_documents({})"
      ],
      "metadata": {
        "id": "54wsz4Zkjvg_"
      },
      "execution_count": null,
      "outputs": []
    },
    {
      "cell_type": "markdown",
      "source": [
        "#FINAL DO PROCESSO"
      ],
      "metadata": {
        "id": "8FFJYDLMl5-S"
      }
    }
  ]
}